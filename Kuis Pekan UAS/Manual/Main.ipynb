{
 "cells": [
  {
   "cell_type": "markdown",
   "metadata": {},
   "source": [
    "100 Data 5 Variabel No 2.2.1"
   ]
  },
  {
   "cell_type": "code",
   "execution_count": 2,
   "metadata": {},
   "outputs": [
    {
     "name": "stdout",
     "output_type": "stream",
     "text": [
      "Koefisien Regresi:\n",
      "Intercept: 69.363458471591\n",
      "intubed: -0.04169405949392235\n",
      "pneumonia: -6.936616649203813\n",
      "pregnancy: -0.015584257869219797\n",
      "diabetes: -10.241384145380152\n",
      "asthma: 6.170483103103834\n"
     ]
    }
   ],
   "source": [
    "import pandas as pd\n",
    "import numpy as np\n",
    "\n",
    "# Mengganti 'nama_file.csv' dengan nama file CSV yang sesuai\n",
    "file_path = 'Manual.csv'\n",
    "\n",
    "# Membaca data dari file CSV\n",
    "data = pd.read_csv(file_path, delimiter=',')\n",
    "\n",
    "# Memilih 5 variabel independen yang numerik\n",
    "independent_variables = ['intubed', 'pneumonia', 'pregnancy', 'diabetes', 'asthma']\n",
    "\n",
    "# Menambahkan kolom konstanta ke variabel independen\n",
    "X = np.column_stack((np.ones(len(data)), data[independent_variables]))\n",
    "\n",
    "# Variabel dependen yang ingin diprediksi\n",
    "y = data['age']  # Ganti 'Target_Variable' dengan variabel dependen yang sesuai\n",
    "\n",
    "# Menghitung matriks (X'X) inverse\n",
    "XtX_inv = np.linalg.inv(np.dot(X.T, X))\n",
    "\n",
    "# Menghitung matriks (X'Y)\n",
    "XtY = np.dot(X.T, y)\n",
    "\n",
    "# Menghitung koefisien regresi\n",
    "beta = np.dot(XtX_inv, XtY)\n",
    "\n",
    "# Menampilkan koefisien regresi\n",
    "print(\"Koefisien Regresi:\")\n",
    "for i, var in enumerate(['Intercept'] + independent_variables):\n",
    "    print(f\"{var}: {beta[i]}\")"
   ]
  }
 ],
 "metadata": {
  "kernelspec": {
   "display_name": "Python 3",
   "language": "python",
   "name": "python3"
  },
  "language_info": {
   "codemirror_mode": {
    "name": "ipython",
    "version": 3
   },
   "file_extension": ".py",
   "mimetype": "text/x-python",
   "name": "python",
   "nbconvert_exporter": "python",
   "pygments_lexer": "ipython3",
   "version": "3.12.0"
  }
 },
 "nbformat": 4,
 "nbformat_minor": 2
}
